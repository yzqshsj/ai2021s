{
 "cells": [
  {
   "cell_type": "markdown",
   "metadata": {},
   "source": [
    "# 作业1：Numpy练习"
   ]
  },
  {
   "cell_type": "markdown",
   "metadata": {},
   "source": [
    "本次作业主要对Python中的矩阵运算库Numpy进行练习。如遇到不清楚的函数或主题，可以查阅[官方文档](https://numpy.org/doc/stable/user/index.html)或利用搜索引擎寻求帮助。"
   ]
  },
  {
   "cell_type": "markdown",
   "metadata": {},
   "source": [
    "### 基础知识"
   ]
  },
  {
   "cell_type": "markdown",
   "metadata": {},
   "source": [
    "本节对Numpy进行简要介绍，没有实际的题目，可直接运行每一个单元格。"
   ]
  },
  {
   "cell_type": "markdown",
   "metadata": {},
   "source": [
    "首先导入Numpy包："
   ]
  },
  {
   "cell_type": "code",
   "execution_count": 41,
   "metadata": {},
   "outputs": [],
   "source": [
    "import numpy as np"
   ]
  },
  {
   "cell_type": "markdown",
   "metadata": {},
   "source": [
    "利用Numpy可以方便地创建向量和矩阵："
   ]
  },
  {
   "cell_type": "code",
   "execution_count": 6,
   "metadata": {},
   "outputs": [
    {
     "name": "stdout",
     "output_type": "stream",
     "text": [
      "[1. 2. 5.]\n"
     ]
    }
   ],
   "source": [
    "vec = np.array([1.0, 2.0, 5.0])\n",
    "print(vec)"
   ]
  },
  {
   "cell_type": "code",
   "execution_count": 7,
   "metadata": {},
   "outputs": [
    {
     "name": "stdout",
     "output_type": "stream",
     "text": [
      "[[1.  2.  2. ]\n",
      " [3.  5.  4.5]]\n"
     ]
    }
   ],
   "source": [
    "mat = np.array([[1.0, 2.0, 2.0], [3.0, 5.0, 4.5]])\n",
    "print(mat)"
   ]
  },
  {
   "cell_type": "code",
   "execution_count": 8,
   "metadata": {},
   "outputs": [
    {
     "name": "stdout",
     "output_type": "stream",
     "text": [
      "[1.         1.36363636 1.72727273 2.09090909 2.45454545 2.81818182\n",
      " 3.18181818 3.54545455 3.90909091 4.27272727 4.63636364 5.        ]\n"
     ]
    }
   ],
   "source": [
    "vec = np.linspace(start=1.0, stop=5.0, num=12)\n",
    "print(vec)"
   ]
  },
  {
   "cell_type": "code",
   "execution_count": 9,
   "metadata": {},
   "outputs": [
    {
     "name": "stdout",
     "output_type": "stream",
     "text": [
      "[[1.         1.36363636 1.72727273 2.09090909]\n",
      " [2.45454545 2.81818182 3.18181818 3.54545455]\n",
      " [3.90909091 4.27272727 4.63636364 5.        ]]\n"
     ]
    }
   ],
   "source": [
    "mat = np.reshape(vec, (3, 4))\n",
    "print(mat)"
   ]
  },
  {
   "cell_type": "markdown",
   "metadata": {},
   "source": [
    "Python中下标是从0开始的，请一定要记住这一点，否则会造成很多逻辑错误。"
   ]
  },
  {
   "cell_type": "code",
   "execution_count": 10,
   "metadata": {},
   "outputs": [
    {
     "name": "stdout",
     "output_type": "stream",
     "text": [
      "1.0\n",
      "1.7272727272727273\n",
      "2.8181818181818183\n"
     ]
    }
   ],
   "source": [
    "print(vec[0])\n",
    "print(vec[2])\n",
    "print(mat[1, 1])"
   ]
  },
  {
   "cell_type": "markdown",
   "metadata": {},
   "source": [
    "负数的下标表示从尾部往前数："
   ]
  },
  {
   "cell_type": "code",
   "execution_count": 11,
   "metadata": {},
   "outputs": [
    {
     "name": "stdout",
     "output_type": "stream",
     "text": [
      "5.0\n",
      "4.636363636363637\n",
      "3.5454545454545454\n"
     ]
    }
   ],
   "source": [
    "print(vec[-1])\n",
    "print(vec[-2])\n",
    "print(mat[1, -1])"
   ]
  },
  {
   "cell_type": "markdown",
   "metadata": {},
   "source": [
    "可以用冒号选取向量中的一段范围，格式为`x[start:end]`，选出的元素包含`x[start]`，不包含`x[end]`。"
   ]
  },
  {
   "cell_type": "code",
   "execution_count": 12,
   "metadata": {},
   "outputs": [
    {
     "name": "stdout",
     "output_type": "stream",
     "text": [
      "[1.36363636 1.72727273]\n"
     ]
    }
   ],
   "source": [
    "print(vec[1:3])"
   ]
  },
  {
   "cell_type": "code",
   "execution_count": 13,
   "metadata": {},
   "outputs": [
    {
     "name": "stdout",
     "output_type": "stream",
     "text": [
      "[[1.         1.36363636]\n",
      " [2.45454545 2.81818182]\n",
      " [3.90909091 4.27272727]]\n"
     ]
    }
   ],
   "source": [
    "print(mat[:, :2])"
   ]
  },
  {
   "cell_type": "markdown",
   "metadata": {},
   "source": [
    "在编写函数时，经常需要各种测试数据，此时可以用Numpy来生成各类随机数。在需要用到随机数之前，一定要先设置随机数种子，以使结果可重复。"
   ]
  },
  {
   "cell_type": "code",
   "execution_count": 14,
   "metadata": {},
   "outputs": [],
   "source": [
    "np.random.seed(123)"
   ]
  },
  {
   "cell_type": "markdown",
   "metadata": {},
   "source": [
    "生成均匀分布随机数："
   ]
  },
  {
   "cell_type": "code",
   "execution_count": 15,
   "metadata": {},
   "outputs": [
    {
     "name": "stdout",
     "output_type": "stream",
     "text": [
      "[0.69646919 0.28613933 0.22685145 0.55131477 0.71946897]\n"
     ]
    }
   ],
   "source": [
    "unif = np.random.uniform(low=0.0, high=1.0, size=5)\n",
    "print(unif)"
   ]
  },
  {
   "cell_type": "markdown",
   "metadata": {},
   "source": [
    "正态分布随机数："
   ]
  },
  {
   "cell_type": "code",
   "execution_count": 16,
   "metadata": {},
   "outputs": [
    {
     "name": "stdout",
     "output_type": "stream",
     "text": [
      "[[ 0.32210607 -0.05151772 -0.20420096  1.97934843 -1.61930007]\n",
      " [-1.11396442 -0.44744072  1.66840161 -0.14337247 -0.6191909 ]]\n"
     ]
    }
   ],
   "source": [
    "norm = np.random.normal(loc=0.0, scale=1.0, size=(2, 5))\n",
    "print(norm)"
   ]
  },
  {
   "cell_type": "markdown",
   "metadata": {},
   "source": [
    "Numpy提供了许多数学函数对向量和矩阵进行操作："
   ]
  },
  {
   "cell_type": "code",
   "execution_count": 17,
   "metadata": {},
   "outputs": [
    {
     "name": "stdout",
     "output_type": "stream",
     "text": [
      "[[1.38003115 0.94978682 0.81529851 7.23802539 0.19803726]\n",
      " [0.32825504 0.63926211 5.30368367 0.86643129 0.53837986]]\n"
     ]
    }
   ],
   "source": [
    "print(np.exp(norm))"
   ]
  },
  {
   "cell_type": "code",
   "execution_count": 18,
   "metadata": {
    "scrolled": true
   },
   "outputs": [
    {
     "name": "stdout",
     "output_type": "stream",
     "text": [
      "[-0.36173173 -1.2512764  -1.48345987 -0.59544936 -0.32924188]\n"
     ]
    }
   ],
   "source": [
    "print(np.log(unif))"
   ]
  },
  {
   "cell_type": "markdown",
   "metadata": {},
   "source": [
    "也可以对向量和矩阵进行汇总："
   ]
  },
  {
   "cell_type": "code",
   "execution_count": 19,
   "metadata": {},
   "outputs": [
    {
     "data": {
      "text/plain": [
       "2.4802437129808985"
      ]
     },
     "execution_count": 19,
     "metadata": {},
     "output_type": "execute_result"
    }
   ],
   "source": [
    "np.sum(unif)"
   ]
  },
  {
   "cell_type": "code",
   "execution_count": 20,
   "metadata": {
    "scrolled": true
   },
   "outputs": [
    {
     "data": {
      "text/plain": [
       "-0.02291311494411293"
      ]
     },
     "execution_count": 20,
     "metadata": {},
     "output_type": "execute_result"
    }
   ],
   "source": [
    "np.mean(norm)"
   ]
  },
  {
   "cell_type": "markdown",
   "metadata": {},
   "source": [
    "汇总可以按行或者按列进行，这由`axis`参数决定。0表示运算时第一个维度（行）在变化，1表示运算时第二个维度（列）在变化。\n",
    "再次提醒，Python中以0表示第一个元素！"
   ]
  },
  {
   "cell_type": "code",
   "execution_count": 21,
   "metadata": {},
   "outputs": [
    {
     "data": {
      "text/plain": [
       "array([-0.39592917, -0.24947922,  0.73210032,  0.91798798, -1.11924548])"
      ]
     },
     "execution_count": 21,
     "metadata": {},
     "output_type": "execute_result"
    }
   ],
   "source": [
    "np.mean(norm, axis=0)  # 对第一个维度（行标在变化）求均值"
   ]
  },
  {
   "cell_type": "code",
   "execution_count": 22,
   "metadata": {},
   "outputs": [
    {
     "data": {
      "text/plain": [
       "array([1.33033757, 0.90853666])"
      ]
     },
     "execution_count": 22,
     "metadata": {},
     "output_type": "execute_result"
    }
   ],
   "source": [
    "np.var(norm, axis=1)  # 对第二个维度（列标在变化）求方差"
   ]
  },
  {
   "cell_type": "markdown",
   "metadata": {},
   "source": [
    "### 第1题"
   ]
  },
  {
   "cell_type": "markdown",
   "metadata": {},
   "source": [
    "(a) 生成10000个服从(0, 1)间均匀分布的随机数，赋值给变量`x`，并打印其**前10个**元素。"
   ]
  },
  {
   "cell_type": "code",
   "execution_count": 23,
   "metadata": {},
   "outputs": [],
   "source": [
    "np.random.seed(100)"
   ]
  },
  {
   "cell_type": "code",
   "execution_count": 24,
   "metadata": {},
   "outputs": [
    {
     "name": "stdout",
     "output_type": "stream",
     "text": [
      "[0.54340494 0.27836939 0.42451759 0.84477613 0.00471886 0.12156912\n",
      " 0.67074908 0.82585276 0.13670659 0.57509333]\n"
     ]
    }
   ],
   "source": [
    "x = np.random.uniform(low=0.0, high=1.0, size=10000)\n",
    "print(x[0:10])"
   ]
  },
  {
   "cell_type": "markdown",
   "metadata": {},
   "source": [
    "(b) 创建向量`y`，令其在数学上等于`y=-log(x)`，其中`log`为自然对数。打印`y`的**最后10个**元素。"
   ]
  },
  {
   "cell_type": "code",
   "execution_count": 25,
   "metadata": {},
   "outputs": [
    {
     "name": "stdout",
     "output_type": "stream",
     "text": [
      "[0.21414775 0.16444909 1.37319694 0.97667815 0.57162608 0.47369285\n",
      " 0.49493178 1.22075032 1.01960451 3.40173209]\n"
     ]
    }
   ],
   "source": [
    "y = -np.log(x)\n",
    "print(y[-11:-1])"
   ]
  },
  {
   "cell_type": "markdown",
   "metadata": {},
   "source": [
    "(c) 查找在Python中绘制图形的方法，绘制`y`的直方图。"
   ]
  },
  {
   "cell_type": "code",
   "execution_count": 26,
   "metadata": {},
   "outputs": [],
   "source": [
    "import matplotlib.pyplot as plt"
   ]
  },
  {
   "cell_type": "code",
   "execution_count": 27,
   "metadata": {},
   "outputs": [
    {
     "data": {
      "image/png": "[encoded data removed]",
      "text/plain": [
       "<Figure size 432x288 with 1 Axes>"
      ]
     },
     "metadata": {
      "needs_background": "light"
     },
     "output_type": "display_data"
    }
   ],
   "source": [
    "plt.hist(y, bins = 20, edgecolor = 'black')\n",
    "plt.title('histogram of y')\n",
    "plt.show()"
   ]
  },
  {
   "cell_type": "markdown",
   "metadata": {},
   "source": [
    "(d) 猜测或证明`y`服从什么分布，并简要说明理由。"
   ]
  },
  {
   "cell_type": "markdown",
   "metadata": {},
   "source": [
    "由图像估计y服从指数分布；\n",
    "由x服从U(0,1)，y=-logx，计算得y服从Exp(1)."
   ]
  },
  {
   "cell_type": "markdown",
   "metadata": {},
   "source": [
    "### 第2题"
   ]
  },
  {
   "cell_type": "markdown",
   "metadata": {},
   "source": [
    "(a) 考虑Sigmoid函数 $$\\sigma(x)=\\frac{e^x}{1+e^x}$$\n",
    "\n",
    "请在Python中编写一个函数`sigmoid(x)`，令其可以接收一个向量`x`，返回Sigmoid函数在`x`上的取值。"
   ]
  },
  {
   "cell_type": "code",
   "execution_count": 38,
   "metadata": {},
   "outputs": [],
   "source": [
    "def sigmoid(x):\n",
    "    y = np.exp(x)/(1 + np.exp(x))\n",
    "    return y"
   ]
  },
  {
   "cell_type": "markdown",
   "metadata": {},
   "source": [
    "(b) 创建向量`x`，使其包含元素-1000, -100, -10, 0, 10, 100, 1000。在`x`上调用上面编写的函数，返回的结果是什么？是否出现警告或错误？"
   ]
  },
  {
   "cell_type": "code",
   "execution_count": 39,
   "metadata": {},
   "outputs": [
    {
     "name": "stdout",
     "output_type": "stream",
     "text": [
      "[0.00000000e+00 3.72007598e-44 4.53978687e-05 5.00000000e-01\n",
      " 9.99954602e-01 1.00000000e+00            nan]\n"
     ]
    },
    {
     "name": "stderr",
     "output_type": "stream",
     "text": [
      "<ipython-input-38-9522e1dcbcd8>:2: RuntimeWarning: overflow encountered in exp\n",
      "  y = np.exp(x)/(1 + np.exp(x))\n",
      "<ipython-input-38-9522e1dcbcd8>:2: RuntimeWarning: invalid value encountered in true_divide\n",
      "  y = np.exp(x)/(1 + np.exp(x))\n"
     ]
    }
   ],
   "source": [
    "x = np.array([-1000, -100, -10, 0, 10, 100, 1000])\n",
    "\n",
    "print(sigmoid(x))"
   ]
  },
  {
   "cell_type": "markdown",
   "metadata": {},
   "source": [
    "(c) 如果出现警告或错误，思考可能的原因是什么。（提示：Sigmoid函数真实的取值范围是多少？分子和分母的取值范围又是什么？是否可以对Sigmoid函数的表达式进行某种等价变换？）如果一切正常，可忽略此问题。"
   ]
  },
  {
   "cell_type": "markdown",
   "metadata": {},
   "source": [
    "当x取值1000时，exp(x)取值过大，使得运算报错。\n",
    "可以将Sigmoid函数改写成𝜎(𝑥) = 1/(1 + exp(-x))."
   ]
  },
  {
   "cell_type": "markdown",
   "metadata": {},
   "source": [
    "(d) 请再次尝试编写`sigmoid(x)`函数，使其在给定的数据上顺利计算结果。可在网上搜索相关主题寻求帮助，但需给出来源。如果之前一切正常，可忽略此问题。"
   ]
  },
  {
   "cell_type": "code",
   "execution_count": 44,
   "metadata": {},
   "outputs": [
    {
     "name": "stdout",
     "output_type": "stream",
     "text": [
      "[0.00000000e+00 3.72007598e-44 4.53978687e-05 5.00000000e-01\n",
      " 9.99954602e-01 1.00000000e+00 1.00000000e+00]\n"
     ]
    }
   ],
   "source": [
    "x = np.array([-1000, -100, -10, 0, 10, 100, 1000])\n",
    "\n",
    "def sigmoid_1(x):\n",
    "    t = np.exp(-np.abs(x))\n",
    "    ans = np.where(x>0, 1/(1 + t), t/(1 +t))\n",
    "    return(ans)\n",
    "\n",
    "print(ans)"
   ]
  },
  {
   "cell_type": "markdown",
   "metadata": {},
   "source": [
    "### 第3题"
   ]
  },
  {
   "cell_type": "markdown",
   "metadata": {},
   "source": [
    "(a) 考虑Softplus函数 $$\\mathrm{softplus}(x)=\\log(1+e^x)$$\n",
    "\n",
    "请在Python中编写一个函数`softplus(x)`，令其可以接收一个向量`x`，返回Softplus函数在`x`上的取值。"
   ]
  },
  {
   "cell_type": "code",
   "execution_count": 32,
   "metadata": {},
   "outputs": [],
   "source": [
    "def softplus(x):\n",
    "    y = np.log(1 + np.exp(x))\n",
    "    return y"
   ]
  },
  {
   "cell_type": "markdown",
   "metadata": {},
   "source": [
    "(b) 创建向量`x`，使其包含元素-1000, -100, -10, 0, 10, 100, 1000。在`x`上调用上面编写的函数，返回的结果是什么？是否出现警告或错误？"
   ]
  },
  {
   "cell_type": "code",
   "execution_count": 33,
   "metadata": {},
   "outputs": [
    {
     "name": "stdout",
     "output_type": "stream",
     "text": [
      "[0.00000000e+00 0.00000000e+00 4.53988992e-05 6.93147181e-01\n",
      " 1.00000454e+01 1.00000000e+02            inf]\n"
     ]
    },
    {
     "name": "stderr",
     "output_type": "stream",
     "text": [
      "<ipython-input-32-b70275754e26>:2: RuntimeWarning: overflow encountered in exp\n",
      "  y = np.log(1 + np.exp(x))\n"
     ]
    }
   ],
   "source": [
    "x = np.array([-1000, -100, -10, 0, 10, 100, 1000])\n",
    "\n",
    "print(softplus(x))"
   ]
  },
  {
   "cell_type": "markdown",
   "metadata": {},
   "source": [
    "(c) 如果出现警告或错误，参照第2题的方法，思考可能的原因是什么。如果一切正常，可忽略此问题。"
   ]
  },
  {
   "cell_type": "markdown",
   "metadata": {},
   "source": [
    "与第二题相同，exp(x)取值过大，使得运算报错。\n",
    "可改写为softplus(𝑥) = x + log(1 + exp(-x))."
   ]
  },
  {
   "cell_type": "markdown",
   "metadata": {},
   "source": [
    "(d) 请再次尝试编写`softplus(x)`函数，使其在给定的数据上顺利计算结果。可在网上搜索相关主题寻求帮助，但需给出来源。如果之前一切正常，可忽略此问题。"
   ]
  },
  {
   "cell_type": "code",
   "execution_count": 45,
   "metadata": {},
   "outputs": [
    {
     "name": "stdout",
     "output_type": "stream",
     "text": [
      "[0.00000000e+00 3.72007598e-44 4.53978687e-05 5.00000000e-01\n",
      " 9.99954602e-01 1.00000000e+00 1.00000000e+00]\n"
     ]
    }
   ],
   "source": [
    "x = np.array([-1000, -100, -10, 0, 10, 100, 1000])\n",
    "\n",
    "def softplus_1(x):\n",
    "    ans = np.where(x>0, x + np.log(1 + np.exp(-x)), np.log(1 + np.exp(x)))\n",
    "    return ans\n",
    "\n",
    "print(ans)"
   ]
  },
  {
   "cell_type": "code",
   "execution_count": null,
   "metadata": {},
   "outputs": [],
   "source": []
  }
 ],
 "metadata": {
  "kernelspec": {
   "display_name": "Python 3",
   "language": "python",
   "name": "python3"
  },
  "language_info": {
   "codemirror_mode": {
    "name": "ipython",
    "version": 3
   },
   "file_extension": ".py",
   "mimetype": "text/x-python",
   "name": "python",
   "nbconvert_exporter": "python",
   "pygments_lexer": "ipython3",
   "version": "3.8.5"
  }
 },
 "nbformat": 4,
 "nbformat_minor": 4
}
